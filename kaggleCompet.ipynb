{
 "cells": [
  {
   "cell_type": "markdown",
   "id": "13b990ad",
   "metadata": {
    "_cell_guid": "b1076dfc-b9ad-4769-8c92-a6c4dae69d19",
    "_uuid": "8f2839f25d086af736a60e9eeb907d3b93b6e0e5",
    "execution": {
     "iopub.execute_input": "2022-03-30T18:48:31.989122Z",
     "iopub.status.busy": "2022-03-30T18:48:31.988783Z",
     "iopub.status.idle": "2022-03-30T18:48:32.014285Z",
     "shell.execute_reply": "2022-03-30T18:48:32.013417Z",
     "shell.execute_reply.started": "2022-03-30T18:48:31.989033Z"
    },
    "papermill": {
     "duration": 0.01673,
     "end_time": "2022-04-23T05:49:21.545026",
     "exception": false,
     "start_time": "2022-04-23T05:49:21.528296",
     "status": "completed"
    },
    "tags": []
   },
   "source": [
    "# Imports"
   ]
  },
  {
   "cell_type": "code",
   "execution_count": 1,
   "id": "dee5b53e",
   "metadata": {
    "execution": {
     "iopub.execute_input": "2022-04-23T05:49:21.581045Z",
     "iopub.status.busy": "2022-04-23T05:49:21.580225Z",
     "iopub.status.idle": "2022-04-23T05:49:21.586534Z",
     "shell.execute_reply": "2022-04-23T05:49:21.586914Z",
     "shell.execute_reply.started": "2022-04-22T19:11:41.823916Z"
    },
    "papermill": {
     "duration": 0.025531,
     "end_time": "2022-04-23T05:49:21.587134",
     "exception": false,
     "start_time": "2022-04-23T05:49:21.561603",
     "status": "completed"
    },
    "tags": []
   },
   "outputs": [],
   "source": [
    "import numpy as np # linear algebra\n",
    "import pandas as pd # data processing, CSV file I/O (e.g. pd.read_csv)"
   ]
  },
  {
   "cell_type": "code",
   "execution_count": 2,
   "id": "bab5e4fb",
   "metadata": {
    "execution": {
     "iopub.execute_input": "2022-04-23T05:49:21.621943Z",
     "iopub.status.busy": "2022-04-23T05:49:21.621512Z",
     "iopub.status.idle": "2022-04-23T05:49:21.627311Z",
     "shell.execute_reply": "2022-04-23T05:49:21.627663Z",
     "shell.execute_reply.started": "2022-04-22T19:11:41.855301Z"
    },
    "papermill": {
     "duration": 0.024456,
     "end_time": "2022-04-23T05:49:21.627808",
     "exception": false,
     "start_time": "2022-04-23T05:49:21.603352",
     "status": "completed"
    },
    "tags": []
   },
   "outputs": [
    {
     "name": "stdout",
     "output_type": "stream",
     "text": [
      "/kaggle/input/electricity-time-series-dataset-ml-winter-2022/sample_submission.csv\n",
      "/kaggle/input/electricity-time-series-dataset-ml-winter-2022/train.csv\n",
      "/kaggle/input/electricity-time-series-dataset-ml-winter-2022/test.csv\n"
     ]
    }
   ],
   "source": [
    "# Input data files are available in the read-only \"../input/\" directory\n",
    "# For example, running this (by clicking run or pressing Shift+Enter) will list all files under the input directory\n",
    "\n",
    "import os\n",
    "for dirname, _, filenames in os.walk('/kaggle/input'):\n",
    "    for filename in filenames:\n",
    "        print(os.path.join(dirname, filename))"
   ]
  },
  {
   "cell_type": "markdown",
   "id": "c73f73fa",
   "metadata": {
    "papermill": {
     "duration": 0.017033,
     "end_time": "2022-04-23T05:49:21.661800",
     "exception": false,
     "start_time": "2022-04-23T05:49:21.644767",
     "status": "completed"
    },
    "tags": []
   },
   "source": [
    "# Loading and Preparing Data"
   ]
  },
  {
   "cell_type": "code",
   "execution_count": 3,
   "id": "43e88891",
   "metadata": {
    "execution": {
     "iopub.execute_input": "2022-04-23T05:49:21.703945Z",
     "iopub.status.busy": "2022-04-23T05:49:21.703356Z",
     "iopub.status.idle": "2022-04-23T05:49:42.785269Z",
     "shell.execute_reply": "2022-04-23T05:49:42.784697Z",
     "shell.execute_reply.started": "2022-04-22T19:39:44.64565Z"
    },
    "papermill": {
     "duration": 21.107363,
     "end_time": "2022-04-23T05:49:42.785408",
     "exception": false,
     "start_time": "2022-04-23T05:49:21.678045",
     "status": "completed"
    },
    "tags": []
   },
   "outputs": [],
   "source": [
    "INPUT_FOLDER = '../input/electricity-time-series-dataset-ml-winter-2022/'\n",
    "\n",
    "df = pd.read_csv(os.path.join(INPUT_FOLDER, 'train.csv'))\n",
    "sample_submission_df = pd.read_csv(os.path.join(INPUT_FOLDER, 'sample_submission.csv'))\n",
    "test_df = pd.read_csv(os.path.join(INPUT_FOLDER, 'test.csv'))"
   ]
  },
  {
   "cell_type": "markdown",
   "id": "96233e45",
   "metadata": {
    "papermill": {
     "duration": 0.025239,
     "end_time": "2022-04-23T05:49:42.836077",
     "exception": false,
     "start_time": "2022-04-23T05:49:42.810838",
     "status": "completed"
    },
    "tags": []
   },
   "source": [
    ":waring::warning: This next cell should only be runned once on fresh loaded data! :warning::warning:"
   ]
  },
  {
   "cell_type": "code",
   "execution_count": 4,
   "id": "47e6b6e4",
   "metadata": {
    "execution": {
     "iopub.execute_input": "2022-04-23T05:49:42.894636Z",
     "iopub.status.busy": "2022-04-23T05:49:42.893873Z",
     "iopub.status.idle": "2022-04-23T05:49:42.916214Z",
     "shell.execute_reply": "2022-04-23T05:49:42.916694Z",
     "shell.execute_reply.started": "2022-04-22T19:40:53.374333Z"
    },
    "papermill": {
     "duration": 0.055971,
     "end_time": "2022-04-23T05:49:42.916843",
     "exception": false,
     "start_time": "2022-04-23T05:49:42.860872",
     "status": "completed"
    },
    "tags": []
   },
   "outputs": [
    {
     "data": {
      "text/html": [
       "<div>\n",
       "<style scoped>\n",
       "    .dataframe tbody tr th:only-of-type {\n",
       "        vertical-align: middle;\n",
       "    }\n",
       "\n",
       "    .dataframe tbody tr th {\n",
       "        vertical-align: top;\n",
       "    }\n",
       "\n",
       "    .dataframe thead th {\n",
       "        text-align: right;\n",
       "    }\n",
       "</style>\n",
       "<table border=\"1\" class=\"dataframe\">\n",
       "  <thead>\n",
       "    <tr style=\"text-align: right;\">\n",
       "      <th></th>\n",
       "      <th>Id</th>\n",
       "      <th>\"Sequence\"</th>\n",
       "    </tr>\n",
       "  </thead>\n",
       "  <tbody>\n",
       "    <tr>\n",
       "      <th>0</th>\n",
       "      <td>1</td>\n",
       "      <td>811.6719970703125 1140.128662109375 1091.86499...</td>\n",
       "    </tr>\n",
       "    <tr>\n",
       "      <th>1</th>\n",
       "      <td>2</td>\n",
       "      <td>276.9784240722656 359.1127014160156 324.940032...</td>\n",
       "    </tr>\n",
       "    <tr>\n",
       "      <th>2</th>\n",
       "      <td>3</td>\n",
       "      <td>165.20755004882812 215.2452850341797 219.01887...</td>\n",
       "    </tr>\n",
       "    <tr>\n",
       "      <th>3</th>\n",
       "      <td>4</td>\n",
       "      <td>207.88357543945312 252.26876831054688 237.5625...</td>\n",
       "    </tr>\n",
       "    <tr>\n",
       "      <th>4</th>\n",
       "      <td>5</td>\n",
       "      <td>323.14923095703125 435.95770263671875 420.6815...</td>\n",
       "    </tr>\n",
       "  </tbody>\n",
       "</table>\n",
       "</div>"
      ],
      "text/plain": [
       "   Id                                         \"Sequence\"\n",
       "0   1  811.6719970703125 1140.128662109375 1091.86499...\n",
       "1   2  276.9784240722656 359.1127014160156 324.940032...\n",
       "2   3  165.20755004882812 215.2452850341797 219.01887...\n",
       "3   4  207.88357543945312 252.26876831054688 237.5625...\n",
       "4   5  323.14923095703125 435.95770263671875 420.6815..."
      ]
     },
     "execution_count": 4,
     "metadata": {},
     "output_type": "execute_result"
    }
   ],
   "source": [
    "df.head()"
   ]
  },
  {
   "cell_type": "code",
   "execution_count": 5,
   "id": "7071aadc",
   "metadata": {
    "execution": {
     "iopub.execute_input": "2022-04-23T05:49:42.978543Z",
     "iopub.status.busy": "2022-04-23T05:49:42.969776Z",
     "iopub.status.idle": "2022-04-23T05:49:46.067204Z",
     "shell.execute_reply": "2022-04-23T05:49:46.066548Z",
     "shell.execute_reply.started": "2022-04-22T19:42:53.496439Z"
    },
    "papermill": {
     "duration": 3.125107,
     "end_time": "2022-04-23T05:49:46.067356",
     "exception": false,
     "start_time": "2022-04-23T05:49:42.942249",
     "status": "completed"
    },
    "tags": []
   },
   "outputs": [],
   "source": [
    "# rectifying a typo in column name\n",
    "df = df.rename({' \"Sequence\"': 'Sequence'}, axis=1)\n",
    "\n",
    "# function to transform \n",
    "def convert(string):\n",
    "    li = np.array([float(num) for num in list(string.split(\" \"))])\n",
    "    return li\n",
    "\n",
    "df['Sequence'] = df['Sequence'].apply(lambda x: (convert(x)))"
   ]
  },
  {
   "cell_type": "code",
   "execution_count": 6,
   "id": "b91893ec",
   "metadata": {
    "execution": {
     "iopub.execute_input": "2022-04-23T05:49:46.124997Z",
     "iopub.status.busy": "2022-04-23T05:49:46.124179Z",
     "iopub.status.idle": "2022-04-23T05:49:46.127564Z",
     "shell.execute_reply": "2022-04-23T05:49:46.128026Z",
     "shell.execute_reply.started": "2022-04-22T19:55:51.408677Z"
    },
    "papermill": {
     "duration": 0.035442,
     "end_time": "2022-04-23T05:49:46.128217",
     "exception": false,
     "start_time": "2022-04-23T05:49:46.092775",
     "status": "completed"
    },
    "tags": []
   },
   "outputs": [
    {
     "data": {
      "text/plain": [
       "array([1452.56091309, 1986.56591797, 1889.16882324, ..., 1062.13269043,\n",
       "        984.04699707,  921.07470703])"
      ]
     },
     "execution_count": 6,
     "metadata": {},
     "output_type": "execute_result"
    }
   ],
   "source": [
    "df.iloc[10,1]"
   ]
  },
  {
   "cell_type": "markdown",
   "id": "cb7fb327",
   "metadata": {
    "papermill": {
     "duration": 0.025637,
     "end_time": "2022-04-23T05:49:46.179884",
     "exception": false,
     "start_time": "2022-04-23T05:49:46.154247",
     "status": "completed"
    },
    "tags": []
   },
   "source": [
    "# Understanding the structure of the data"
   ]
  },
  {
   "cell_type": "code",
   "execution_count": 7,
   "id": "7a188465",
   "metadata": {
    "execution": {
     "iopub.execute_input": "2022-04-23T05:49:46.240837Z",
     "iopub.status.busy": "2022-04-23T05:49:46.240166Z",
     "iopub.status.idle": "2022-04-23T05:49:46.242996Z",
     "shell.execute_reply": "2022-04-23T05:49:46.243531Z",
     "shell.execute_reply.started": "2022-04-22T19:43:11.617113Z"
    },
    "papermill": {
     "duration": 0.038069,
     "end_time": "2022-04-23T05:49:46.243685",
     "exception": false,
     "start_time": "2022-04-23T05:49:46.205616",
     "status": "completed"
    },
    "tags": []
   },
   "outputs": [
    {
     "name": "stdout",
     "output_type": "stream",
     "text": [
      "Shape of data: (250, 2)\n",
      "There are 28 different lenghts in 'Sequence' with mean: 26767.676, min: 2809 and max: 33865\n"
     ]
    }
   ],
   "source": [
    "print(f\"Shape of data: {df.shape}\")\n",
    "x = df['Sequence'].apply(lambda x: x.shape[0])\n",
    "print(f\"There are {len(x.unique())} different lenghts in 'Sequence' with mean: {np.mean(x)},\" \n",
    "      f\" min: {np.min(x)} and max: {np.max(x)}\")"
   ]
  },
  {
   "cell_type": "code",
   "execution_count": 8,
   "id": "455d7186",
   "metadata": {
    "execution": {
     "iopub.execute_input": "2022-04-23T05:49:46.306302Z",
     "iopub.status.busy": "2022-04-23T05:49:46.305621Z",
     "iopub.status.idle": "2022-04-23T05:49:46.308355Z",
     "shell.execute_reply": "2022-04-23T05:49:46.308834Z",
     "shell.execute_reply.started": "2022-04-22T20:20:40.930927Z"
    },
    "papermill": {
     "duration": 0.037268,
     "end_time": "2022-04-23T05:49:46.308983",
     "exception": false,
     "start_time": "2022-04-23T05:49:46.271715",
     "status": "completed"
    },
    "tags": []
   },
   "outputs": [
    {
     "data": {
      "text/plain": [
       "1046    114\n",
       "1411    100\n",
       "302       9\n",
       "680       2\n",
       "267       2\n",
       "117       1\n",
       "243       1\n",
       "966       1\n",
       "745       1\n",
       "622       1\n",
       "411       1\n",
       "252       1\n",
       "811       1\n",
       "509       1\n",
       "281       1\n",
       "851       1\n",
       "873       1\n",
       "1315      1\n",
       "525       1\n",
       "849       1\n",
       "649       1\n",
       "439       1\n",
       "327       1\n",
       "432       1\n",
       "845       1\n",
       "725       1\n",
       "734       1\n",
       "338       1\n",
       "Name: Sequence, dtype: int64"
      ]
     },
     "execution_count": 8,
     "metadata": {},
     "output_type": "execute_result"
    }
   ],
   "source": [
    "y = x//24\n",
    "y.value_counts()"
   ]
  },
  {
   "cell_type": "code",
   "execution_count": 9,
   "id": "2b213866",
   "metadata": {
    "execution": {
     "iopub.execute_input": "2022-04-23T05:49:46.365751Z",
     "iopub.status.busy": "2022-04-23T05:49:46.364956Z",
     "iopub.status.idle": "2022-04-23T05:49:46.369215Z",
     "shell.execute_reply": "2022-04-23T05:49:46.369695Z"
    },
    "papermill": {
     "duration": 0.034273,
     "end_time": "2022-04-23T05:49:46.369843",
     "exception": false,
     "start_time": "2022-04-23T05:49:46.335570",
     "status": "completed"
    },
    "tags": []
   },
   "outputs": [
    {
     "data": {
      "text/plain": [
       "26767.676"
      ]
     },
     "execution_count": 9,
     "metadata": {},
     "output_type": "execute_result"
    }
   ],
   "source": [
    "np.mean(x)"
   ]
  },
  {
   "cell_type": "code",
   "execution_count": 10,
   "id": "3b236015",
   "metadata": {
    "execution": {
     "iopub.execute_input": "2022-04-23T05:49:46.427438Z",
     "iopub.status.busy": "2022-04-23T05:49:46.426702Z",
     "iopub.status.idle": "2022-04-23T05:49:46.429494Z",
     "shell.execute_reply": "2022-04-23T05:49:46.430050Z"
    },
    "papermill": {
     "duration": 0.033199,
     "end_time": "2022-04-23T05:49:46.430262",
     "exception": false,
     "start_time": "2022-04-23T05:49:46.397063",
     "status": "completed"
    },
    "tags": []
   },
   "outputs": [],
   "source": [
    "# !pip install --upgrade pip"
   ]
  },
  {
   "cell_type": "code",
   "execution_count": 11,
   "id": "e289a475",
   "metadata": {
    "execution": {
     "iopub.execute_input": "2022-04-23T05:49:46.488853Z",
     "iopub.status.busy": "2022-04-23T05:49:46.488281Z",
     "iopub.status.idle": "2022-04-23T05:49:46.490345Z",
     "shell.execute_reply": "2022-04-23T05:49:46.490897Z",
     "shell.execute_reply.started": "2022-04-16T15:39:07.477332Z"
    },
    "papermill": {
     "duration": 0.032521,
     "end_time": "2022-04-23T05:49:46.491028",
     "exception": false,
     "start_time": "2022-04-23T05:49:46.458507",
     "status": "completed"
    },
    "tags": []
   },
   "outputs": [],
   "source": [
    "# !pip install model-card-toolkit --use-deprecated=legacy-resolver"
   ]
  },
  {
   "cell_type": "code",
   "execution_count": 12,
   "id": "39a2ff44",
   "metadata": {
    "execution": {
     "iopub.execute_input": "2022-04-23T05:49:46.550694Z",
     "iopub.status.busy": "2022-04-23T05:49:46.550166Z",
     "iopub.status.idle": "2022-04-23T05:49:46.552217Z",
     "shell.execute_reply": "2022-04-23T05:49:46.552689Z"
    },
    "papermill": {
     "duration": 0.033524,
     "end_time": "2022-04-23T05:49:46.552830",
     "exception": false,
     "start_time": "2022-04-23T05:49:46.519306",
     "status": "completed"
    },
    "tags": []
   },
   "outputs": [],
   "source": [
    "# !pip install wheel\n",
    "# !cd model_card_toolkit\n",
    "# !python3 setup.py sdist bdist_wheel"
   ]
  },
  {
   "cell_type": "code",
   "execution_count": 13,
   "id": "17632d09",
   "metadata": {
    "execution": {
     "iopub.execute_input": "2022-04-23T05:49:46.593424Z",
     "iopub.status.busy": "2022-04-23T05:49:46.592904Z",
     "iopub.status.idle": "2022-04-23T05:49:46.596172Z",
     "shell.execute_reply": "2022-04-23T05:49:46.596594Z"
    },
    "papermill": {
     "duration": 0.025124,
     "end_time": "2022-04-23T05:49:46.596747",
     "exception": false,
     "start_time": "2022-04-23T05:49:46.571623",
     "status": "completed"
    },
    "tags": []
   },
   "outputs": [],
   "source": [
    "# !pip install --upgrade ./dist/*pkg.whl"
   ]
  },
  {
   "cell_type": "code",
   "execution_count": 14,
   "id": "b3deb356",
   "metadata": {
    "execution": {
     "iopub.execute_input": "2022-04-23T05:49:46.636550Z",
     "iopub.status.busy": "2022-04-23T05:49:46.636091Z",
     "iopub.status.idle": "2022-04-23T05:49:46.638948Z",
     "shell.execute_reply": "2022-04-23T05:49:46.639415Z",
     "shell.execute_reply.started": "2022-04-16T15:41:13.802073Z"
    },
    "papermill": {
     "duration": 0.023957,
     "end_time": "2022-04-23T05:49:46.639538",
     "exception": false,
     "start_time": "2022-04-23T05:49:46.615581",
     "status": "completed"
    },
    "tags": []
   },
   "outputs": [],
   "source": [
    "# import model_card_toolkit"
   ]
  },
  {
   "cell_type": "code",
   "execution_count": 15,
   "id": "c2d26a70",
   "metadata": {
    "execution": {
     "iopub.execute_input": "2022-04-23T05:49:46.679096Z",
     "iopub.status.busy": "2022-04-23T05:49:46.678678Z",
     "iopub.status.idle": "2022-04-23T05:49:46.681622Z",
     "shell.execute_reply": "2022-04-23T05:49:46.682030Z",
     "shell.execute_reply.started": "2022-04-16T15:40:52.204714Z"
    },
    "papermill": {
     "duration": 0.024333,
     "end_time": "2022-04-23T05:49:46.682163",
     "exception": false,
     "start_time": "2022-04-23T05:49:46.657830",
     "status": "completed"
    },
    "tags": []
   },
   "outputs": [],
   "source": [
    "# pip install MarkupSafe==2.0.1"
   ]
  },
  {
   "cell_type": "code",
   "execution_count": 16,
   "id": "df642c62",
   "metadata": {
    "execution": {
     "iopub.execute_input": "2022-04-23T05:49:46.721599Z",
     "iopub.status.busy": "2022-04-23T05:49:46.721156Z",
     "iopub.status.idle": "2022-04-23T05:49:46.724237Z",
     "shell.execute_reply": "2022-04-23T05:49:46.724647Z"
    },
    "papermill": {
     "duration": 0.024169,
     "end_time": "2022-04-23T05:49:46.724751",
     "exception": false,
     "start_time": "2022-04-23T05:49:46.700582",
     "status": "completed"
    },
    "tags": []
   },
   "outputs": [],
   "source": [
    "# !pip --version"
   ]
  },
  {
   "cell_type": "code",
   "execution_count": 17,
   "id": "a648b489",
   "metadata": {
    "execution": {
     "iopub.execute_input": "2022-04-23T05:49:46.764690Z",
     "iopub.status.busy": "2022-04-23T05:49:46.764258Z",
     "iopub.status.idle": "2022-04-23T05:49:46.766478Z",
     "shell.execute_reply": "2022-04-23T05:49:46.766885Z"
    },
    "papermill": {
     "duration": 0.023873,
     "end_time": "2022-04-23T05:49:46.766996",
     "exception": false,
     "start_time": "2022-04-23T05:49:46.743123",
     "status": "completed"
    },
    "tags": []
   },
   "outputs": [],
   "source": [
    "# pip install model-card-toolkit --use-deprecated=legacy-resolver"
   ]
  },
  {
   "cell_type": "code",
   "execution_count": null,
   "id": "4f8c118e",
   "metadata": {
    "papermill": {
     "duration": 0.018491,
     "end_time": "2022-04-23T05:49:46.804120",
     "exception": false,
     "start_time": "2022-04-23T05:49:46.785629",
     "status": "completed"
    },
    "tags": []
   },
   "outputs": [],
   "source": []
  }
 ],
 "metadata": {
  "kernelspec": {
   "display_name": "Python 3",
   "language": "python",
   "name": "python3"
  },
  "language_info": {
   "codemirror_mode": {
    "name": "ipython",
    "version": 3
   },
   "file_extension": ".py",
   "mimetype": "text/x-python",
   "name": "python",
   "nbconvert_exporter": "python",
   "pygments_lexer": "ipython3",
   "version": "3.7.12"
  },
  "papermill": {
   "default_parameters": {},
   "duration": 36.581722,
   "end_time": "2022-04-23T05:49:47.532302",
   "environment_variables": {},
   "exception": null,
   "input_path": "__notebook__.ipynb",
   "output_path": "__notebook__.ipynb",
   "parameters": {},
   "start_time": "2022-04-23T05:49:10.950580",
   "version": "2.3.3"
  }
 },
 "nbformat": 4,
 "nbformat_minor": 5
}
