{
 "cells": [
  {
   "cell_type": "markdown",
   "id": "4345aea7",
   "metadata": {
    "_cell_guid": "b1076dfc-b9ad-4769-8c92-a6c4dae69d19",
    "_uuid": "8f2839f25d086af736a60e9eeb907d3b93b6e0e5",
    "execution": {
     "iopub.execute_input": "2022-03-30T18:48:31.989122Z",
     "iopub.status.busy": "2022-03-30T18:48:31.988783Z",
     "iopub.status.idle": "2022-03-30T18:48:32.014285Z",
     "shell.execute_reply": "2022-03-30T18:48:32.013417Z",
     "shell.execute_reply.started": "2022-03-30T18:48:31.989033Z"
    },
    "papermill": {
     "duration": 0.009851,
     "end_time": "2022-03-31T17:00:11.933697",
     "exception": false,
     "start_time": "2022-03-31T17:00:11.923846",
     "status": "completed"
    },
    "tags": []
   },
   "source": [
    "# Imports"
   ]
  },
  {
   "cell_type": "code",
   "execution_count": 1,
   "id": "8ef9b91c",
   "metadata": {
    "execution": {
     "iopub.execute_input": "2022-03-31T17:00:11.957924Z",
     "iopub.status.busy": "2022-03-31T17:00:11.956841Z",
     "iopub.status.idle": "2022-03-31T17:00:11.963546Z",
     "shell.execute_reply": "2022-03-31T17:00:11.964012Z",
     "shell.execute_reply.started": "2022-03-30T21:38:18.186225Z"
    },
    "papermill": {
     "duration": 0.019527,
     "end_time": "2022-03-31T17:00:11.964290",
     "exception": false,
     "start_time": "2022-03-31T17:00:11.944763",
     "status": "completed"
    },
    "tags": []
   },
   "outputs": [],
   "source": [
    "import numpy as np # linear algebra\n",
    "import pandas as pd # data processing, CSV file I/O (e.g. pd.read_csv)"
   ]
  },
  {
   "cell_type": "code",
   "execution_count": 2,
   "id": "5b6b05c3",
   "metadata": {
    "execution": {
     "iopub.execute_input": "2022-03-31T17:00:11.984616Z",
     "iopub.status.busy": "2022-03-31T17:00:11.984022Z",
     "iopub.status.idle": "2022-03-31T17:00:11.989756Z",
     "shell.execute_reply": "2022-03-31T17:00:11.990483Z",
     "shell.execute_reply.started": "2022-03-30T21:38:18.552128Z"
    },
    "papermill": {
     "duration": 0.017639,
     "end_time": "2022-03-31T17:00:11.990717",
     "exception": false,
     "start_time": "2022-03-31T17:00:11.973078",
     "status": "completed"
    },
    "tags": []
   },
   "outputs": [
    {
     "name": "stdout",
     "output_type": "stream",
     "text": [
      "/kaggle/input/electricity-time-series-dataset-ml-winter-2022/sample_submission.csv\n",
      "/kaggle/input/electricity-time-series-dataset-ml-winter-2022/train.csv\n",
      "/kaggle/input/electricity-time-series-dataset-ml-winter-2022/test.csv\n"
     ]
    }
   ],
   "source": [
    "# Input data files are available in the read-only \"../input/\" directory\n",
    "# For example, running this (by clicking run or pressing Shift+Enter) will list all files under the input directory\n",
    "\n",
    "import os\n",
    "for dirname, _, filenames in os.walk('/kaggle/input'):\n",
    "    for filename in filenames:\n",
    "        print(os.path.join(dirname, filename))"
   ]
  },
  {
   "cell_type": "markdown",
   "id": "3529db8b",
   "metadata": {
    "papermill": {
     "duration": 0.010136,
     "end_time": "2022-03-31T17:00:12.012583",
     "exception": false,
     "start_time": "2022-03-31T17:00:12.002447",
     "status": "completed"
    },
    "tags": []
   },
   "source": [
    "# Loading and Preparing Data"
   ]
  },
  {
   "cell_type": "code",
   "execution_count": 3,
   "id": "247fb024",
   "metadata": {
    "execution": {
     "iopub.execute_input": "2022-03-31T17:00:12.042114Z",
     "iopub.status.busy": "2022-03-31T17:00:12.041083Z",
     "iopub.status.idle": "2022-03-31T17:00:31.564035Z",
     "shell.execute_reply": "2022-03-31T17:00:31.563521Z",
     "shell.execute_reply.started": "2022-03-30T21:30:33.817436Z"
    },
    "papermill": {
     "duration": 19.540347,
     "end_time": "2022-03-31T17:00:31.564184",
     "exception": false,
     "start_time": "2022-03-31T17:00:12.023837",
     "status": "completed"
    },
    "tags": []
   },
   "outputs": [],
   "source": [
    "INPUT_FOLDER = '../input/electricity-time-series-dataset-ml-winter-2022/'\n",
    "\n",
    "df = pd.read_csv(os.path.join(INPUT_FOLDER, 'train.csv'))\n",
    "sample_submission_df = pd.read_csv(os.path.join(INPUT_FOLDER, 'sample_submission.csv'))\n",
    "test_df = pd.read_csv(os.path.join(INPUT_FOLDER, 'test.csv'))"
   ]
  },
  {
   "cell_type": "markdown",
   "id": "c2f280ee",
   "metadata": {
    "papermill": {
     "duration": 0.00927,
     "end_time": "2022-03-31T17:00:31.583114",
     "exception": false,
     "start_time": "2022-03-31T17:00:31.573844",
     "status": "completed"
    },
    "tags": []
   },
   "source": [
    ":waring::warning: This next cell should only be runned once on fresh loaded data! :warning::warning:"
   ]
  },
  {
   "cell_type": "code",
   "execution_count": 4,
   "id": "0f6b8fb5",
   "metadata": {
    "execution": {
     "iopub.execute_input": "2022-03-31T17:00:31.605604Z",
     "iopub.status.busy": "2022-03-31T17:00:31.604856Z",
     "iopub.status.idle": "2022-03-31T17:00:35.071525Z",
     "shell.execute_reply": "2022-03-31T17:00:35.070840Z",
     "shell.execute_reply.started": "2022-03-30T21:30:53.21063Z"
    },
    "papermill": {
     "duration": 3.478865,
     "end_time": "2022-03-31T17:00:35.071685",
     "exception": false,
     "start_time": "2022-03-31T17:00:31.592820",
     "status": "completed"
    },
    "tags": []
   },
   "outputs": [],
   "source": [
    "# rectifying a typo in column name\n",
    "df = df.rename({' \"Sequence\"': 'Sequence'}, axis=1)\n",
    "\n",
    "# function to transform \n",
    "def convert(string):\n",
    "    li = np.array([float(num) for num in list(string.split(\" \"))])\n",
    "    return li\n",
    "\n",
    "df['Sequence'] = df['Sequence'].apply(lambda x: (convert(x)))"
   ]
  },
  {
   "cell_type": "markdown",
   "id": "42af4f13",
   "metadata": {
    "papermill": {
     "duration": 0.009319,
     "end_time": "2022-03-31T17:00:35.091091",
     "exception": false,
     "start_time": "2022-03-31T17:00:35.081772",
     "status": "completed"
    },
    "tags": []
   },
   "source": [
    "# Understanding the structure of the data"
   ]
  },
  {
   "cell_type": "code",
   "execution_count": 5,
   "id": "ebafd3b1",
   "metadata": {
    "execution": {
     "iopub.execute_input": "2022-03-31T17:00:35.116662Z",
     "iopub.status.busy": "2022-03-31T17:00:35.116027Z",
     "iopub.status.idle": "2022-03-31T17:00:35.119684Z",
     "shell.execute_reply": "2022-03-31T17:00:35.120083Z",
     "shell.execute_reply.started": "2022-03-30T21:36:47.847101Z"
    },
    "papermill": {
     "duration": 0.01971,
     "end_time": "2022-03-31T17:00:35.120248",
     "exception": false,
     "start_time": "2022-03-31T17:00:35.100538",
     "status": "completed"
    },
    "tags": []
   },
   "outputs": [
    {
     "name": "stdout",
     "output_type": "stream",
     "text": [
      "Shape of data: (250, 2)\n",
      "There are 28 different lenghts in 'Sequence' with mean: 26767.676, min: 2809 and max: 33865\n"
     ]
    }
   ],
   "source": [
    "print(f\"Shape of data: {df.shape}\")\n",
    "x = df['Sequence'].apply(lambda x: x.shape[0])\n",
    "print(f\"There are {len(x.unique())} different lenghts in 'Sequence' with mean: {np.mean(x)},\" \n",
    "      f\" min: {np.min(x)} and max: {np.max(x)}\")"
   ]
  },
  {
   "cell_type": "code",
   "execution_count": 6,
   "id": "d38817c7",
   "metadata": {
    "execution": {
     "iopub.execute_input": "2022-03-31T17:00:35.146250Z",
     "iopub.status.busy": "2022-03-31T17:00:35.145681Z",
     "iopub.status.idle": "2022-03-31T17:00:35.148377Z",
     "shell.execute_reply": "2022-03-31T17:00:35.148808Z",
     "shell.execute_reply.started": "2022-03-30T21:35:11.580001Z"
    },
    "papermill": {
     "duration": 0.019312,
     "end_time": "2022-03-31T17:00:35.148961",
     "exception": false,
     "start_time": "2022-03-31T17:00:35.129649",
     "status": "completed"
    },
    "tags": []
   },
   "outputs": [
    {
     "data": {
      "text/plain": [
       "pandas.core.series.Series"
      ]
     },
     "execution_count": 6,
     "metadata": {},
     "output_type": "execute_result"
    }
   ],
   "source": [
    "type(x)"
   ]
  },
  {
   "cell_type": "code",
   "execution_count": 7,
   "id": "c11803ae",
   "metadata": {
    "execution": {
     "iopub.execute_input": "2022-03-31T17:00:35.171706Z",
     "iopub.status.busy": "2022-03-31T17:00:35.171052Z",
     "iopub.status.idle": "2022-03-31T17:00:35.176152Z",
     "shell.execute_reply": "2022-03-31T17:00:35.176768Z",
     "shell.execute_reply.started": "2022-03-30T21:35:26.73624Z"
    },
    "papermill": {
     "duration": 0.018275,
     "end_time": "2022-03-31T17:00:35.176953",
     "exception": false,
     "start_time": "2022-03-31T17:00:35.158678",
     "status": "completed"
    },
    "tags": []
   },
   "outputs": [
    {
     "data": {
      "text/plain": [
       "26767.676"
      ]
     },
     "execution_count": 7,
     "metadata": {},
     "output_type": "execute_result"
    }
   ],
   "source": [
    "np.mean(x)"
   ]
  },
  {
   "cell_type": "code",
   "execution_count": null,
   "id": "0d863d49",
   "metadata": {
    "papermill": {
     "duration": 0.009962,
     "end_time": "2022-03-31T17:00:35.197922",
     "exception": false,
     "start_time": "2022-03-31T17:00:35.187960",
     "status": "completed"
    },
    "tags": []
   },
   "outputs": [],
   "source": []
  }
 ],
 "metadata": {
  "kernelspec": {
   "display_name": "Python 3",
   "language": "python",
   "name": "python3"
  },
  "language_info": {
   "codemirror_mode": {
    "name": "ipython",
    "version": 3
   },
   "file_extension": ".py",
   "mimetype": "text/x-python",
   "name": "python",
   "nbconvert_exporter": "python",
   "pygments_lexer": "ipython3",
   "version": "3.7.12"
  },
  "papermill": {
   "default_parameters": {},
   "duration": 32.644728,
   "end_time": "2022-03-31T17:00:35.919000",
   "environment_variables": {},
   "exception": null,
   "input_path": "__notebook__.ipynb",
   "output_path": "__notebook__.ipynb",
   "parameters": {},
   "start_time": "2022-03-31T17:00:03.274272",
   "version": "2.3.3"
  }
 },
 "nbformat": 4,
 "nbformat_minor": 5
}
